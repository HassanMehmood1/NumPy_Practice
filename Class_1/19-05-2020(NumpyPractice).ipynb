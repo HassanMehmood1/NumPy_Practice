{
 "cells": [
  {
   "cell_type": "code",
   "execution_count": 10,
   "metadata": {},
   "outputs": [],
   "source": [
    "import numpy as np\n",
    "import pandas as pd"
   ]
  },
  {
   "cell_type": "code",
   "execution_count": 13,
   "metadata": {},
   "outputs": [],
   "source": [
    "d1 = {\n",
    "        'Type':[\n",
    "            'int8',\n",
    "            'uint8',\n",
    "            'int16',\n",
    "            'uint16',\n",
    "            'int or int32',\n",
    "            'uint32',\n",
    "            'int64',\n",
    "            'uint64',\n",
    "            'float16',\n",
    "            'float32',\n",
    "            'float or float64',\n",
    "            'complex64',\n",
    "            'complex or complex128',\n",
    "            'bool',\n",
    "            'object',\n",
    "            'string_',\n",
    "            'unicode',\n",
    "        ],\n",
    "        'Type Code':[\n",
    "            'i1',\n",
    "            'u1',\n",
    "            'i2',\n",
    "            'u2',\n",
    "            'i4 or i',\n",
    "            'u4',\n",
    "            'i8',\n",
    "            'u8',\n",
    "            'f2',\n",
    "            'f4 or f',\n",
    "            'f8 or d',\n",
    "            'f16 or g',\n",
    "            'c8',\n",
    "            'c16',\n",
    "            None,\n",
    "            'O',\n",
    "            'S',\n",
    "            'U',\n",
    "        ]\n",
    "    }\n"
   ]
  },
  {
   "cell_type": "code",
   "execution_count": 42,
   "metadata": {},
   "outputs": [],
   "source": [
    "dtype = pd.DataFrame.from_dict([[d1]])"
   ]
  },
  {
   "cell_type": "code",
   "execution_count": 43,
   "metadata": {},
   "outputs": [
    {
     "data": {
      "text/html": [
       "<div>\n",
       "<style scoped>\n",
       "    .dataframe tbody tr th:only-of-type {\n",
       "        vertical-align: middle;\n",
       "    }\n",
       "\n",
       "    .dataframe tbody tr th {\n",
       "        vertical-align: top;\n",
       "    }\n",
       "\n",
       "    .dataframe thead th {\n",
       "        text-align: right;\n",
       "    }\n",
       "</style>\n",
       "<table border=\"1\" class=\"dataframe\">\n",
       "  <thead>\n",
       "    <tr style=\"text-align: right;\">\n",
       "      <th></th>\n",
       "      <th>0</th>\n",
       "    </tr>\n",
       "  </thead>\n",
       "  <tbody>\n",
       "    <tr>\n",
       "      <th>0</th>\n",
       "      <td>{'Type': ['int8', 'uint8', 'int16', 'uint16', ...</td>\n",
       "    </tr>\n",
       "  </tbody>\n",
       "</table>\n",
       "</div>"
      ],
      "text/plain": [
       "                                                   0\n",
       "0  {'Type': ['int8', 'uint8', 'int16', 'uint16', ..."
      ]
     },
     "execution_count": 43,
     "metadata": {},
     "output_type": "execute_result"
    }
   ],
   "source": [
    "dtype"
   ]
  },
  {
   "cell_type": "code",
   "execution_count": 44,
   "metadata": {},
   "outputs": [
    {
     "data": {
      "text/plain": [
       "4"
      ]
     },
     "execution_count": 44,
     "metadata": {},
     "output_type": "execute_result"
    }
   ],
   "source": [
    "np.sum([1,3])"
   ]
  },
  {
   "cell_type": "code",
   "execution_count": 45,
   "metadata": {},
   "outputs": [
    {
     "data": {
      "text/plain": [
       "10"
      ]
     },
     "execution_count": 45,
     "metadata": {},
     "output_type": "execute_result"
    }
   ],
   "source": [
    "np.sum([1,2,3,4])"
   ]
  },
  {
   "cell_type": "code",
   "execution_count": 46,
   "metadata": {},
   "outputs": [
    {
     "data": {
      "text/plain": [
       "12"
      ]
     },
     "execution_count": 46,
     "metadata": {},
     "output_type": "execute_result"
    }
   ],
   "source": [
    "sum([3,4,5])"
   ]
  },
  {
   "cell_type": "code",
   "execution_count": 47,
   "metadata": {},
   "outputs": [
    {
     "name": "stdout",
     "output_type": "stream",
     "text": [
      "Hello Pakistan\n"
     ]
    }
   ],
   "source": [
    "def abc():\n",
    "    print(\"Hello World\")\n",
    "    \n",
    "def abc():\n",
    "    print(\"Hello Pakistan\")\n",
    "    \n",
    "abc()"
   ]
  },
  {
   "cell_type": "code",
   "execution_count": 48,
   "metadata": {},
   "outputs": [
    {
     "data": {
      "text/plain": [
       "'1.18.1'"
      ]
     },
     "execution_count": 48,
     "metadata": {},
     "output_type": "execute_result"
    }
   ],
   "source": [
    "np.__version__"
   ]
  },
  {
   "cell_type": "code",
   "execution_count": 49,
   "metadata": {},
   "outputs": [
    {
     "name": "stdout",
     "output_type": "stream",
     "text": [
      "Collecting numpy\n",
      "  Downloading numpy-1.18.4-cp37-cp37m-win_amd64.whl (12.8 MB)\n",
      "Installing collected packages: numpy\n",
      "  Attempting uninstall: numpy\n",
      "    Found existing installation: numpy 1.18.1\n",
      "    Uninstalling numpy-1.18.1:\n",
      "      Successfully uninstalled numpy-1.18.1\n"
     ]
    },
    {
     "name": "stderr",
     "output_type": "stream",
     "text": [
      "ERROR: Could not install packages due to an EnvironmentError: [WinError 5] Access is denied: 'c:\\\\users\\\\zeeshan\\\\anaconda3\\\\lib\\\\site-packages\\\\~umpy\\\\core\\\\_multiarray_tests.cp37-win_amd64.pyd'\n",
      "Consider using the `--user` option or check the permissions.\n",
      "\n"
     ]
    }
   ],
   "source": [
    "!pip install --upgrade numpy"
   ]
  },
  {
   "cell_type": "code",
   "execution_count": 50,
   "metadata": {},
   "outputs": [
    {
     "data": {
      "text/plain": [
       "'1.18.1'"
      ]
     },
     "execution_count": 50,
     "metadata": {},
     "output_type": "execute_result"
    }
   ],
   "source": [
    "numpy.__version__"
   ]
  },
  {
   "cell_type": "code",
   "execution_count": 51,
   "metadata": {},
   "outputs": [
    {
     "name": "stdout",
     "output_type": "stream",
     "text": [
      "Hello\n",
      "import numpy\n",
      "import pandas\n",
      "import numpy as np\n",
      "import pandas as pd\n",
      "import numpy as np\n",
      "import pandas as pd\n",
      "dtype = pd.DataFrame(\n",
      "{\n",
      "    'Type':[\n",
      "        'int8',\n",
      "        'uint8',\n",
      "        'int16',\n",
      "        'uint16',\n",
      "        'int or int32',\n",
      "        'uint32',\n",
      "        'int64',\n",
      "        'uint64',\n",
      "        'float16',\n",
      "        'float32',\n",
      "        'float or float64',\n",
      "        'complex64',\n",
      "        'complex or complex128',\n",
      "        'bool',\n",
      "        'object',\n",
      "        'string_',\n",
      "        'unicode',\n",
      "    ],\n",
      "    'Type Code':[\n",
      "        'i1',\n",
      "        'u1',\n",
      "        'i2',\n",
      "        'u2',\n",
      "        'i4 or i',\n",
      "        'u4',\n",
      "        'i8',\n",
      "        'u8',\n",
      "        'f2',\n",
      "        'f4 or f',\n",
      "        'f8 or d',\n",
      "        'f16 or g',\n",
      "        'c8',\n",
      "        'c16',\n",
      "        None,\n",
      "        'O',\n",
      "        'S',\n",
      "        'U',\n",
      "    ]\n",
      "})\n",
      "dtype = pd.DataFrame(\n",
      "{\n",
      "    'Type':[\n",
      "        'int8',\n",
      "        'uint8',\n",
      "        'int16',\n",
      "        'uint16',\n",
      "        'int or int32',\n",
      "        'uint32',\n",
      "        'int64',\n",
      "        'uint64',\n",
      "        'float16',\n",
      "        'float32',\n",
      "        'float or float64',\n",
      "        'complex64',\n",
      "        'complex or complex128',\n",
      "        'bool',\n",
      "        'object',\n",
      "        'string_',\n",
      "        'unicode',\n",
      "    ],\n",
      "    'Type Code':[\n",
      "        'i1',\n",
      "        'u1',\n",
      "        'i2',\n",
      "        'u2',\n",
      "        'i4 or i',\n",
      "        'u4',\n",
      "        'i8',\n",
      "        'u8',\n",
      "        'f2',\n",
      "        'f4 or f',\n",
      "        'f8 or d',\n",
      "        'f16 or g',\n",
      "        'c8',\n",
      "        'c16',\n",
      "        None,\n",
      "        'O',\n",
      "        'S',\n",
      "        'U',\n",
      "    ]\n",
      "}\n",
      ")\n",
      "dtype = pd.DataFrame(\n",
      "{\n",
      "    'Type':[\n",
      "        'int8',\n",
      "        'uint8',\n",
      "        'int16',\n",
      "        'uint16',\n",
      "        'int or int32',\n",
      "        'uint32',\n",
      "        'int64',\n",
      "        'uint64',\n",
      "        'float16',\n",
      "        'float32',\n",
      "        'float or float64',\n",
      "        'complex64',\n",
      "        'complex or complex128',\n",
      "        'bool',\n",
      "        'object',\n",
      "        'string_',\n",
      "        'unicode'\n",
      "    ],\n",
      "    'Type Code':[\n",
      "        'i1',\n",
      "        'u1',\n",
      "        'i2',\n",
      "        'u2',\n",
      "        'i4 or i',\n",
      "        'u4',\n",
      "        'i8',\n",
      "        'u8',\n",
      "        'f2',\n",
      "        'f4 or f',\n",
      "        'f8 or d',\n",
      "        'f16 or g',\n",
      "        'c8',\n",
      "        'c16',\n",
      "        None,\n",
      "        'O',\n",
      "        'S',\n",
      "        'U'\n",
      "    ]\n",
      "}\n",
      ")\n",
      "dtype = pd.DataFrame(\n",
      "    {\n",
      "        'Type':[\n",
      "            'int8',\n",
      "            'uint8',\n",
      "            'int16',\n",
      "            'uint16',\n",
      "            'int or int32',\n",
      "            'uint32',\n",
      "            'int64',\n",
      "            'uint64',\n",
      "            'float16',\n",
      "            'float32',\n",
      "            'float or float64',\n",
      "            'complex64',\n",
      "            'complex or complex128',\n",
      "            'bool',\n",
      "            'object',\n",
      "            'string_',\n",
      "            'unicode'\n",
      "        ],\n",
      "        'Type Code':[\n",
      "            'i1',\n",
      "            'u1',\n",
      "            'i2',\n",
      "            'u2',\n",
      "            'i4 or i',\n",
      "            'u4',\n",
      "            'i8',\n",
      "            'u8',\n",
      "            'f2',\n",
      "            'f4 or f',\n",
      "            'f8 or d',\n",
      "            'f16 or g',\n",
      "            'c8',\n",
      "            'c16',\n",
      "            None,\n",
      "            'O',\n",
      "            'S',\n",
      "            'U'\n",
      "        ]\n",
      "    }\n",
      ")\n",
      "import numpy as np\n",
      "import pandas as pd\n",
      "dtype = pd.DataFrame(\n",
      "    {\n",
      "        'Type':[\n",
      "            'int8',\n",
      "            'uint8',\n",
      "            'int16',\n",
      "            'uint16',\n",
      "            'int or int32',\n",
      "            'uint32',\n",
      "            'int64',\n",
      "            'uint64',\n",
      "            'float16',\n",
      "            'float32',\n",
      "            'float or float64',\n",
      "            'complex64',\n",
      "            'complex or complex128',\n",
      "            'bool',\n",
      "            'object',\n",
      "            'string_',\n",
      "            'unicode'\n",
      "        ],\n",
      "        'Type Code':[\n",
      "            'i1',\n",
      "            'u1',\n",
      "            'i2',\n",
      "            'u2',\n",
      "            'i4 or i',\n",
      "            'u4',\n",
      "            'i8',\n",
      "            'u8',\n",
      "            'f2',\n",
      "            'f4 or f',\n",
      "            'f8 or d',\n",
      "            'f16 or g',\n",
      "            'c8',\n",
      "            'c16',\n",
      "            None,\n",
      "            'O',\n",
      "            'S',\n",
      "            'U'\n",
      "        ]\n",
      "    }\n",
      ")\n",
      "dtype = pd.DataFrame(\n",
      "    {\n",
      "        'Type':[\n",
      "            'int8',\n",
      "            'uint8',\n",
      "            'int16',\n",
      "            'uint16',\n",
      "            'int or int32',\n",
      "            'uint32',\n",
      "            'int64',\n",
      "            'uint64',\n",
      "            'float16',\n",
      "            'float32',\n",
      "            'float or float64',\n",
      "            'complex64',\n",
      "            'complex or complex128',\n",
      "            'bool',\n",
      "            'object',\n",
      "            'string_',\n",
      "            'unicode',\n",
      "        ],\n",
      "        'Type Code':[\n",
      "            'i1',\n",
      "            'u1',\n",
      "            'i2',\n",
      "            'u2',\n",
      "            'i4 or i',\n",
      "            'u4',\n",
      "            'i8',\n",
      "            'u8',\n",
      "            'f2',\n",
      "            'f4 or f',\n",
      "            'f8 or d',\n",
      "            'f16 or g',\n",
      "            'c8',\n",
      "            'c16',\n",
      "            None,\n",
      "            'O',\n",
      "            'S',\n",
      "            'U',\n",
      "        ]\n",
      "    }\n",
      ")\n",
      "d1 = {\n",
      "        'Type':[\n",
      "            'int8',\n",
      "            'uint8',\n",
      "            'int16',\n",
      "            'uint16',\n",
      "            'int or int32',\n",
      "            'uint32',\n",
      "            'int64',\n",
      "            'uint64',\n",
      "            'float16',\n",
      "            'float32',\n",
      "            'float or float64',\n",
      "            'complex64',\n",
      "            'complex or complex128',\n",
      "            'bool',\n",
      "            'object',\n",
      "            'string_',\n",
      "            'unicode',\n",
      "        ],\n",
      "        'Type Code':[\n",
      "            'i1',\n",
      "            'u1',\n",
      "            'i2',\n",
      "            'u2',\n",
      "            'i4 or i',\n",
      "            'u4',\n",
      "            'i8',\n",
      "            'u8',\n",
      "            'f2',\n",
      "            'f4 or f',\n",
      "            'f8 or d',\n",
      "            'f16 or g',\n",
      "            'c8',\n",
      "            'c16',\n",
      "            None,\n",
      "            'O',\n",
      "            'S',\n",
      "            'U',\n",
      "        ]\n",
      "    }\n",
      "d1\n",
      "dtype = pd.DataFrame(d1)\n",
      "len(d1)\n",
      "d1.keys()\n",
      "d1.values()\n",
      "d2 = {'name':'Hassan',\n",
      "     'fname':'Tariq',\n",
      "     'DOB':'30-01-1994'}\n",
      "d3 = pd.DataFrame(d2)\n",
      "d3 = pd.DataFrame.from_dict(d2)\n",
      "d3 = pd.DataFrame.from_dict(d2, orient = 'index')\n",
      "d3\n",
      "d3 = pd.DataFrame(d2, orient = 'index')\n",
      "dtype = pd.DataFrame.from_dict(d1, orient = 'index')\n",
      "dtype\n",
      "dtype = pd.DataFrame.from_dict(d1, orient = 'columns')\n",
      "dtype = pd.DataFrame.from_dict(d1, orient = 'index')\n",
      "dtype\n",
      "dtype = pd.DataFrame.from_dict(d1, columns=['A', 'B'], orient = 'index')\n",
      "dtype = pd.DataFrame.from_dict(d1, columns=['A'], orient = 'index')\n",
      "dtype = pd.DataFrame.from_dict(d1, columns=['A','B','C'], orient = 'index')\n",
      "dtype = pd.DataFrame(d1.items())\n",
      "dtype\n",
      "dtype = pd.DataFrame(d1.items(), columns=['Date', 'DateValue'])\n",
      "dtype\n",
      "dtype = pd.DataFrame(d1.items(), columns=['D', 'DateValue','b','h'])\n",
      "dtype = pd.DataFrame([d1])\n",
      "dtype\n",
      "dtype = pd.DataFrame([[d1]])\n",
      "dtype\n",
      "dtype = pd.DataFrame.from_dict([[d1]])\n",
      "dtype\n",
      "np.sum([1,3])\n",
      "np.sum([1,2,3,4])\n",
      "sum([3,4,5])\n",
      "def abc():\n",
      "    print(\"Hello World\")\n",
      "    \n",
      "def abc():\n",
      "    print(\"Hello Pakistan\")\n",
      "    \n",
      "abc()\n",
      "np.__version__\n",
      "!pip install --upgrade numpy\n",
      "numpy.__version__\n",
      "%history\n"
     ]
    }
   ],
   "source": [
    "%history"
   ]
  },
  {
   "cell_type": "code",
   "execution_count": 56,
   "metadata": {},
   "outputs": [
    {
     "name": "stdout",
     "output_type": "stream",
     "text": [
      "Wall time: 87.8 ms\n"
     ]
    },
    {
     "data": {
      "text/plain": [
       "[0, 1, 2, 3, 4, 5, 6, 7, 8, 9, 10, 11, 12, 13, 14, 15, 16, 17, 18, 19]"
      ]
     },
     "execution_count": 56,
     "metadata": {},
     "output_type": "execute_result"
    }
   ],
   "source": [
    "%time list(range(2000000))[:20]"
   ]
  },
  {
   "cell_type": "code",
   "execution_count": 57,
   "metadata": {},
   "outputs": [
    {
     "name": "stdout",
     "output_type": "stream",
     "text": [
      "Wall time: 5.01 ms\n"
     ]
    },
    {
     "data": {
      "text/plain": [
       "array([ 0,  1,  2,  3,  4,  5,  6,  7,  8,  9, 10, 11, 12, 13, 14, 15, 16,\n",
       "       17, 18, 19])"
      ]
     },
     "execution_count": 57,
     "metadata": {},
     "output_type": "execute_result"
    }
   ],
   "source": [
    "%time np.arange(2000000)[:20]"
   ]
  },
  {
   "cell_type": "code",
   "execution_count": 58,
   "metadata": {},
   "outputs": [
    {
     "name": "stdout",
     "output_type": "stream",
     "text": [
      "Wall time: 152 ms\n"
     ]
    },
    {
     "data": {
      "text/plain": [
       "[6, 7, 8, 9, 10, 11, 12, 13, 14, 15, 16, 17, 18, 19, 20, 21, 22, 23, 24, 25]"
      ]
     },
     "execution_count": 58,
     "metadata": {},
     "output_type": "execute_result"
    }
   ],
   "source": [
    "%time [x+5 for x in range(1,1000000)][:20]"
   ]
  },
  {
   "cell_type": "code",
   "execution_count": 59,
   "metadata": {},
   "outputs": [
    {
     "name": "stdout",
     "output_type": "stream",
     "text": [
      "Wall time: 0 ns\n"
     ]
    }
   ],
   "source": [
    "l = list(range(1,1000000))\n",
    "l2 = list(enumerate(l))\n",
    "for i,v in l2:\n",
    "    l[i] = l[i]+5\n",
    "l[:20]\n",
    "%time"
   ]
  },
  {
   "cell_type": "code",
   "execution_count": 60,
   "metadata": {},
   "outputs": [
    {
     "name": "stdout",
     "output_type": "stream",
     "text": [
      "[[1 2 3]\n",
      " [4 5 6]\n",
      " [7 8 9]]\n"
     ]
    }
   ],
   "source": [
    "a = np.array([[1,2,3],\n",
    "             [4,5,6],\n",
    "             [7,8,9]])\n",
    "print(a)"
   ]
  },
  {
   "cell_type": "code",
   "execution_count": 61,
   "metadata": {},
   "outputs": [
    {
     "data": {
      "text/plain": [
       "numpy.ndarray"
      ]
     },
     "execution_count": 61,
     "metadata": {},
     "output_type": "execute_result"
    }
   ],
   "source": [
    "type(a)"
   ]
  },
  {
   "cell_type": "code",
   "execution_count": 62,
   "metadata": {},
   "outputs": [
    {
     "data": {
      "text/plain": [
       "(3, 3)"
      ]
     },
     "execution_count": 62,
     "metadata": {},
     "output_type": "execute_result"
    }
   ],
   "source": [
    "a.shape"
   ]
  },
  {
   "cell_type": "code",
   "execution_count": 65,
   "metadata": {},
   "outputs": [
    {
     "data": {
      "text/plain": [
       "array([[0, 1, 2, 3, 4],\n",
       "       [5, 6, 7, 8, 9]])"
      ]
     },
     "execution_count": 65,
     "metadata": {},
     "output_type": "execute_result"
    }
   ],
   "source": [
    "np.arange(0,10).reshape(2,5)"
   ]
  },
  {
   "cell_type": "code",
   "execution_count": 79,
   "metadata": {},
   "outputs": [
    {
     "data": {
      "text/plain": [
       "array([ 0,  1,  2,  3,  4,  5,  6,  7,  8,  9, 10, 11, 12, 13, 14, 15, 16,\n",
       "       17, 18, 19, 20, 21, 22, 23, 24, 25, 26, 27, 28, 29])"
      ]
     },
     "execution_count": 79,
     "metadata": {},
     "output_type": "execute_result"
    }
   ],
   "source": [
    "np.arange(30)"
   ]
  },
  {
   "cell_type": "code",
   "execution_count": 80,
   "metadata": {},
   "outputs": [
    {
     "data": {
      "text/plain": [
       "array([ 0,  1,  2,  3,  4,  5,  6,  7,  8,  9, 10, 11, 12, 13, 14, 15])"
      ]
     },
     "execution_count": 80,
     "metadata": {},
     "output_type": "execute_result"
    }
   ],
   "source": [
    "np.arange(30)[:16]"
   ]
  },
  {
   "cell_type": "code",
   "execution_count": 81,
   "metadata": {},
   "outputs": [
    {
     "data": {
      "text/plain": [
       "array([[ 0,  1],\n",
       "       [ 2,  3],\n",
       "       [ 4,  5],\n",
       "       [ 6,  7],\n",
       "       [ 8,  9],\n",
       "       [10, 11],\n",
       "       [12, 13],\n",
       "       [14, 15]])"
      ]
     },
     "execution_count": 81,
     "metadata": {},
     "output_type": "execute_result"
    }
   ],
   "source": [
    "np.arange(30)[:16].reshape(8,2)"
   ]
  },
  {
   "cell_type": "code",
   "execution_count": 82,
   "metadata": {},
   "outputs": [
    {
     "data": {
      "text/plain": [
       "array([[ 0,  1,  2,  3,  4,  5,  6,  7],\n",
       "       [ 8,  9, 10, 11, 12, 13, 14, 15]])"
      ]
     },
     "execution_count": 82,
     "metadata": {},
     "output_type": "execute_result"
    }
   ],
   "source": [
    "np.arange(30)[:16].reshape(2,8)"
   ]
  },
  {
   "cell_type": "code",
   "execution_count": 83,
   "metadata": {},
   "outputs": [
    {
     "data": {
      "text/plain": [
       "array([[ 0,  1,  2,  3],\n",
       "       [ 4,  5,  6,  7],\n",
       "       [ 8,  9, 10, 11],\n",
       "       [12, 13, 14, 15]])"
      ]
     },
     "execution_count": 83,
     "metadata": {},
     "output_type": "execute_result"
    }
   ],
   "source": [
    "np.arange(30)[:16].reshape(4,4)"
   ]
  },
  {
   "cell_type": "code",
   "execution_count": 86,
   "metadata": {},
   "outputs": [
    {
     "data": {
      "text/plain": [
       "array([[14, 15, 16, 17],\n",
       "       [18, 19, 20, 21],\n",
       "       [22, 23, 24, 25],\n",
       "       [26, 27, 28, 29]])"
      ]
     },
     "execution_count": 86,
     "metadata": {},
     "output_type": "execute_result"
    }
   ],
   "source": [
    "np.arange(30)[14:].reshape(4,4)"
   ]
  },
  {
   "cell_type": "code",
   "execution_count": 87,
   "metadata": {},
   "outputs": [
    {
     "data": {
      "text/plain": [
       "array([[14, 15],\n",
       "       [16, 17],\n",
       "       [18, 19],\n",
       "       [20, 21],\n",
       "       [22, 23],\n",
       "       [24, 25],\n",
       "       [26, 27],\n",
       "       [28, 29]])"
      ]
     },
     "execution_count": 87,
     "metadata": {},
     "output_type": "execute_result"
    }
   ],
   "source": [
    "np.arange(30)[14:].reshape(8,2)"
   ]
  },
  {
   "cell_type": "code",
   "execution_count": 88,
   "metadata": {},
   "outputs": [
    {
     "data": {
      "text/plain": [
       "array([[10, 11, 12, 13],\n",
       "       [14, 15, 16, 17],\n",
       "       [18, 19, 20, 21],\n",
       "       [22, 23, 24, 25]])"
      ]
     },
     "execution_count": 88,
     "metadata": {},
     "output_type": "execute_result"
    }
   ],
   "source": [
    "np.arange(30)[10:26].reshape(4,4)"
   ]
  },
  {
   "cell_type": "code",
   "execution_count": 89,
   "metadata": {},
   "outputs": [
    {
     "data": {
      "text/plain": [
       "array([[10, 11, 12, 13, 14, 15, 16, 17],\n",
       "       [18, 19, 20, 21, 22, 23, 24, 25]])"
      ]
     },
     "execution_count": 89,
     "metadata": {},
     "output_type": "execute_result"
    }
   ],
   "source": [
    "np.arange(30)[10:26].reshape(2,8)"
   ]
  },
  {
   "cell_type": "code",
   "execution_count": 90,
   "metadata": {},
   "outputs": [
    {
     "data": {
      "text/plain": [
       "array([[10, 11],\n",
       "       [12, 13],\n",
       "       [14, 15],\n",
       "       [16, 17],\n",
       "       [18, 19],\n",
       "       [20, 21],\n",
       "       [22, 23],\n",
       "       [24, 25]])"
      ]
     },
     "execution_count": 90,
     "metadata": {},
     "output_type": "execute_result"
    }
   ],
   "source": [
    "np.arange(30)[10:26].reshape(8,2)"
   ]
  },
  {
   "cell_type": "code",
   "execution_count": 91,
   "metadata": {},
   "outputs": [
    {
     "data": {
      "text/plain": [
       "array([[10, 12],\n",
       "       [14, 16],\n",
       "       [18, 20],\n",
       "       [22, 24]])"
      ]
     },
     "execution_count": 91,
     "metadata": {},
     "output_type": "execute_result"
    }
   ],
   "source": [
    "np.arange(30)[10:26:2].reshape(4,2)"
   ]
  },
  {
   "cell_type": "code",
   "execution_count": 92,
   "metadata": {},
   "outputs": [
    {
     "data": {
      "text/plain": [
       "array([[10, 12, 14, 16],\n",
       "       [18, 20, 22, 24]])"
      ]
     },
     "execution_count": 92,
     "metadata": {},
     "output_type": "execute_result"
    }
   ],
   "source": [
    "np.arange(30)[10:26:2].reshape(2,4)"
   ]
  },
  {
   "cell_type": "markdown",
   "metadata": {},
   "source": [
    "# Now 3 and higher Dimension Array Splitting"
   ]
  },
  {
   "cell_type": "code",
   "execution_count": 93,
   "metadata": {},
   "outputs": [
    {
     "data": {
      "text/plain": [
       "array([[[10, 12],\n",
       "        [14, 16]],\n",
       "\n",
       "       [[18, 20],\n",
       "        [22, 24]]])"
      ]
     },
     "execution_count": 93,
     "metadata": {},
     "output_type": "execute_result"
    }
   ],
   "source": [
    "np.arange(30)[10:26:2].reshape(2,2,2)"
   ]
  },
  {
   "cell_type": "code",
   "execution_count": 94,
   "metadata": {},
   "outputs": [
    {
     "data": {
      "text/plain": [
       "array([[[ 0,  1,  2],\n",
       "        [ 3,  4,  5],\n",
       "        [ 6,  7,  8]],\n",
       "\n",
       "       [[ 9, 10, 11],\n",
       "        [12, 13, 14],\n",
       "        [15, 16, 17]],\n",
       "\n",
       "       [[18, 19, 20],\n",
       "        [21, 22, 23],\n",
       "        [24, 25, 26]]])"
      ]
     },
     "execution_count": 94,
     "metadata": {},
     "output_type": "execute_result"
    }
   ],
   "source": [
    "np.arange(27).reshape(3,3,3)"
   ]
  },
  {
   "cell_type": "code",
   "execution_count": 96,
   "metadata": {},
   "outputs": [
    {
     "data": {
      "text/plain": [
       "array([[[ 0,  1,  2,  3],\n",
       "        [ 4,  5,  6,  7],\n",
       "        [ 8,  9, 10, 11],\n",
       "        [12, 13, 14, 15]],\n",
       "\n",
       "       [[16, 17, 18, 19],\n",
       "        [20, 21, 22, 23],\n",
       "        [24, 25, 26, 27],\n",
       "        [28, 29, 30, 31]],\n",
       "\n",
       "       [[32, 33, 34, 35],\n",
       "        [36, 37, 38, 39],\n",
       "        [40, 41, 42, 43],\n",
       "        [44, 45, 46, 47]],\n",
       "\n",
       "       [[48, 49, 50, 51],\n",
       "        [52, 53, 54, 55],\n",
       "        [56, 57, 58, 59],\n",
       "        [60, 61, 62, 63]]])"
      ]
     },
     "execution_count": 96,
     "metadata": {},
     "output_type": "execute_result"
    }
   ],
   "source": [
    "np.arange(64).reshape(4,4,4)"
   ]
  },
  {
   "cell_type": "code",
   "execution_count": 97,
   "metadata": {},
   "outputs": [
    {
     "data": {
      "text/plain": [
       "array([[[  0,   1,   2,   3,   4],\n",
       "        [  5,   6,   7,   8,   9],\n",
       "        [ 10,  11,  12,  13,  14],\n",
       "        [ 15,  16,  17,  18,  19],\n",
       "        [ 20,  21,  22,  23,  24]],\n",
       "\n",
       "       [[ 25,  26,  27,  28,  29],\n",
       "        [ 30,  31,  32,  33,  34],\n",
       "        [ 35,  36,  37,  38,  39],\n",
       "        [ 40,  41,  42,  43,  44],\n",
       "        [ 45,  46,  47,  48,  49]],\n",
       "\n",
       "       [[ 50,  51,  52,  53,  54],\n",
       "        [ 55,  56,  57,  58,  59],\n",
       "        [ 60,  61,  62,  63,  64],\n",
       "        [ 65,  66,  67,  68,  69],\n",
       "        [ 70,  71,  72,  73,  74]],\n",
       "\n",
       "       [[ 75,  76,  77,  78,  79],\n",
       "        [ 80,  81,  82,  83,  84],\n",
       "        [ 85,  86,  87,  88,  89],\n",
       "        [ 90,  91,  92,  93,  94],\n",
       "        [ 95,  96,  97,  98,  99]],\n",
       "\n",
       "       [[100, 101, 102, 103, 104],\n",
       "        [105, 106, 107, 108, 109],\n",
       "        [110, 111, 112, 113, 114],\n",
       "        [115, 116, 117, 118, 119],\n",
       "        [120, 121, 122, 123, 124]]])"
      ]
     },
     "execution_count": 97,
     "metadata": {},
     "output_type": "execute_result"
    }
   ],
   "source": [
    "np.arange(125).reshape(5,5,5)"
   ]
  },
  {
   "cell_type": "code",
   "execution_count": 101,
   "metadata": {},
   "outputs": [
    {
     "data": {
      "text/plain": [
       "array([[[  0,   1,   2,   3,   4,   5],\n",
       "        [  6,   7,   8,   9,  10,  11],\n",
       "        [ 12,  13,  14,  15,  16,  17],\n",
       "        [ 18,  19,  20,  21,  22,  23],\n",
       "        [ 24,  25,  26,  27,  28,  29],\n",
       "        [ 30,  31,  32,  33,  34,  35]],\n",
       "\n",
       "       [[ 36,  37,  38,  39,  40,  41],\n",
       "        [ 42,  43,  44,  45,  46,  47],\n",
       "        [ 48,  49,  50,  51,  52,  53],\n",
       "        [ 54,  55,  56,  57,  58,  59],\n",
       "        [ 60,  61,  62,  63,  64,  65],\n",
       "        [ 66,  67,  68,  69,  70,  71]],\n",
       "\n",
       "       [[ 72,  73,  74,  75,  76,  77],\n",
       "        [ 78,  79,  80,  81,  82,  83],\n",
       "        [ 84,  85,  86,  87,  88,  89],\n",
       "        [ 90,  91,  92,  93,  94,  95],\n",
       "        [ 96,  97,  98,  99, 100, 101],\n",
       "        [102, 103, 104, 105, 106, 107]],\n",
       "\n",
       "       [[108, 109, 110, 111, 112, 113],\n",
       "        [114, 115, 116, 117, 118, 119],\n",
       "        [120, 121, 122, 123, 124, 125],\n",
       "        [126, 127, 128, 129, 130, 131],\n",
       "        [132, 133, 134, 135, 136, 137],\n",
       "        [138, 139, 140, 141, 142, 143]],\n",
       "\n",
       "       [[144, 145, 146, 147, 148, 149],\n",
       "        [150, 151, 152, 153, 154, 155],\n",
       "        [156, 157, 158, 159, 160, 161],\n",
       "        [162, 163, 164, 165, 166, 167],\n",
       "        [168, 169, 170, 171, 172, 173],\n",
       "        [174, 175, 176, 177, 178, 179]],\n",
       "\n",
       "       [[180, 181, 182, 183, 184, 185],\n",
       "        [186, 187, 188, 189, 190, 191],\n",
       "        [192, 193, 194, 195, 196, 197],\n",
       "        [198, 199, 200, 201, 202, 203],\n",
       "        [204, 205, 206, 207, 208, 209],\n",
       "        [210, 211, 212, 213, 214, 215]]])"
      ]
     },
     "execution_count": 101,
     "metadata": {},
     "output_type": "execute_result"
    }
   ],
   "source": [
    "np.arange(216).reshape(6,6,6)"
   ]
  },
  {
   "cell_type": "code",
   "execution_count": 104,
   "metadata": {},
   "outputs": [
    {
     "data": {
      "text/plain": [
       "array([[[ 1,  2,  3],\n",
       "        [ 4,  5,  6],\n",
       "        [ 7,  8,  9]],\n",
       "\n",
       "       [[10, 11, 12],\n",
       "        [13, 14, 15],\n",
       "        [16, 17, 18]],\n",
       "\n",
       "       [[19, 20, 21],\n",
       "        [22, 23, 24],\n",
       "        [25, 26, 27]]])"
      ]
     },
     "execution_count": 104,
     "metadata": {},
     "output_type": "execute_result"
    }
   ],
   "source": [
    "a = np.arange(1,28).reshape(3,3,3)\n",
    "\n",
    "a"
   ]
  },
  {
   "cell_type": "code",
   "execution_count": 105,
   "metadata": {},
   "outputs": [
    {
     "data": {
      "text/plain": [
       "array([[[1, 0, 1],\n",
       "        [0, 1, 0],\n",
       "        [1, 0, 1]],\n",
       "\n",
       "       [[0, 1, 0],\n",
       "        [1, 0, 1],\n",
       "        [0, 1, 0]],\n",
       "\n",
       "       [[1, 0, 1],\n",
       "        [0, 1, 0],\n",
       "        [1, 0, 1]]], dtype=int32)"
      ]
     },
     "execution_count": 105,
     "metadata": {},
     "output_type": "execute_result"
    }
   ],
   "source": [
    "a = np.arange(1,28).reshape(3,3,3)\n",
    "a = a%2\n",
    "a"
   ]
  },
  {
   "cell_type": "code",
   "execution_count": 113,
   "metadata": {},
   "outputs": [
    {
     "name": "stdout",
     "output_type": "stream",
     "text": [
      "4\n",
      "(4, 3, 3, 2)\n"
     ]
    },
    {
     "data": {
      "text/plain": [
       "array([[[[ 12.06616767,  10.76147026],\n",
       "         [  1.2751145 ,  -2.91578217],\n",
       "         [  8.23066602,   1.28160085]],\n",
       "\n",
       "        [[  0.89992678,  13.15694246],\n",
       "         [ 11.74126491,   6.91614954],\n",
       "         [ -2.13133045,   0.08437333]],\n",
       "\n",
       "        [[-32.81461798, -26.42800538],\n",
       "         [ -9.06320706,  15.39886927],\n",
       "         [-16.01559751,  13.95195347]]],\n",
       "\n",
       "\n",
       "       [[[ -2.23952434,   6.41685134],\n",
       "         [ -5.24520865,  11.2013494 ],\n",
       "         [  9.03993882,   9.82511797]],\n",
       "\n",
       "        [[  7.59596578, -10.15481527],\n",
       "         [ 14.69819074,   8.62986501],\n",
       "         [  5.4260293 ,  14.9287082 ]],\n",
       "\n",
       "        [[ -0.47920803,   0.79328157],\n",
       "         [ -1.08577311,  10.51336179],\n",
       "         [  0.30133543,  -1.27581347]]],\n",
       "\n",
       "\n",
       "       [[[ 10.54617796,  -4.09871579],\n",
       "         [  4.02175028,  23.19430803],\n",
       "         [ 13.95254021, -10.15643038]],\n",
       "\n",
       "        [[ -4.07076255,  -2.53009028],\n",
       "         [ 11.14432797,  -2.05869193],\n",
       "         [ -4.39535613, -18.80318474]],\n",
       "\n",
       "        [[ 14.74099254,  -0.98158867],\n",
       "         [ -2.98336129,   2.32707118],\n",
       "         [ 16.09513485,  -9.98368823]]],\n",
       "\n",
       "\n",
       "       [[[  9.96353243,  -6.98197893],\n",
       "         [  2.39273412,  -7.31407524],\n",
       "         [ 11.36672812,  -5.68817994]],\n",
       "\n",
       "        [[  5.38846726,   2.42132568],\n",
       "         [ -1.67755958, -13.99632528],\n",
       "         [ 25.22791678,   9.33429087]],\n",
       "\n",
       "        [[  6.93348508,  -9.34152079],\n",
       "         [-11.79296473,  12.64921938],\n",
       "         [ -0.09875651, -10.96187937]]]])"
      ]
     },
     "execution_count": 113,
     "metadata": {},
     "output_type": "execute_result"
    }
   ],
   "source": [
    "a = np.random.randn(4,3,3,2)\n",
    "print(a.ndim)\n",
    "print(a.shape)\n",
    "a = a*10\n",
    "a"
   ]
  },
  {
   "cell_type": "code",
   "execution_count": 115,
   "metadata": {},
   "outputs": [
    {
     "name": "stdout",
     "output_type": "stream",
     "text": [
      "[[ 1  2]\n",
      " [ 3  4]\n",
      " [ 5  6]\n",
      " [ 7  8]\n",
      " [ 9 10]\n",
      " [11 12]]\n"
     ]
    }
   ],
   "source": [
    "a = np.arange(1,13).reshape(6,2)\n",
    "print(a)"
   ]
  },
  {
   "cell_type": "code",
   "execution_count": 116,
   "metadata": {},
   "outputs": [
    {
     "name": "stdout",
     "output_type": "stream",
     "text": [
      "[[  1   4]\n",
      " [  9  16]\n",
      " [ 25  36]\n",
      " [ 49  64]\n",
      " [ 81 100]\n",
      " [121 144]]\n"
     ]
    }
   ],
   "source": [
    "print(a*a)"
   ]
  },
  {
   "cell_type": "code",
   "execution_count": 119,
   "metadata": {},
   "outputs": [
    {
     "data": {
      "text/plain": [
       "5"
      ]
     },
     "execution_count": 119,
     "metadata": {},
     "output_type": "execute_result"
    }
   ],
   "source": [
    "a[2,0]"
   ]
  },
  {
   "cell_type": "code",
   "execution_count": 121,
   "metadata": {},
   "outputs": [
    {
     "data": {
      "text/plain": [
       "array([      6,       7,       8, ..., 1000002, 1000003, 1000004])"
      ]
     },
     "execution_count": 121,
     "metadata": {},
     "output_type": "execute_result"
    }
   ],
   "source": [
    " l = np.arange(1,1000000)\n",
    "l = l+5\n",
    "l"
   ]
  },
  {
   "cell_type": "markdown",
   "metadata": {},
   "source": [
    "# Dimensions"
   ]
  },
  {
   "cell_type": "code",
   "execution_count": 122,
   "metadata": {},
   "outputs": [
    {
     "name": "stdout",
     "output_type": "stream",
     "text": [
      "[1]\n",
      "1\n",
      "(1,)\n",
      "int32\n"
     ]
    }
   ],
   "source": [
    "a = np.array([1])\n",
    "print(a)\n",
    "print(a.ndim)\n",
    "print(a.shape)\n",
    "print(a.dtype)"
   ]
  },
  {
   "cell_type": "code",
   "execution_count": 123,
   "metadata": {},
   "outputs": [
    {
     "name": "stdout",
     "output_type": "stream",
     "text": [
      "[1 2 3 4 5]\n",
      "1\n",
      "(5,)\n",
      "int32\n"
     ]
    }
   ],
   "source": [
    "a = np.array([1,2,3,4,5])\n",
    "print(a)\n",
    "print(a.ndim)\n",
    "print(a.shape)\n",
    "print(a.dtype)"
   ]
  },
  {
   "cell_type": "code",
   "execution_count": 124,
   "metadata": {},
   "outputs": [
    {
     "name": "stdout",
     "output_type": "stream",
     "text": [
      "[[1 2 4]\n",
      " [3 5 6]\n",
      " [2 1 5]]\n",
      "2\n",
      "(3, 3)\n",
      "int32\n"
     ]
    }
   ],
   "source": [
    "a = np.array([[1,2,4],\n",
    "              [3,5,6],\n",
    "              [2,1,5]])\n",
    "print(a)\n",
    "print(a.ndim)\n",
    "print(a.shape)\n",
    "print(a.dtype)"
   ]
  },
  {
   "cell_type": "code",
   "execution_count": 125,
   "metadata": {},
   "outputs": [
    {
     "data": {
      "text/plain": [
       "2"
      ]
     },
     "execution_count": 125,
     "metadata": {},
     "output_type": "execute_result"
    }
   ],
   "source": [
    "a.ndim"
   ]
  },
  {
   "cell_type": "markdown",
   "metadata": {},
   "source": [
    "#  Creating ndarrays"
   ]
  },
  {
   "cell_type": "code",
   "execution_count": 126,
   "metadata": {},
   "outputs": [
    {
     "name": "stdout",
     "output_type": "stream",
     "text": [
      "<class 'list'>\n"
     ]
    },
    {
     "data": {
      "text/plain": [
       "numpy.ndarray"
      ]
     },
     "execution_count": 126,
     "metadata": {},
     "output_type": "execute_result"
    }
   ],
   "source": [
    "a  = [1,2,3]\n",
    "print(type(a))\n",
    "\n",
    "a = np.array(a)\n",
    "type(a)"
   ]
  },
  {
   "cell_type": "code",
   "execution_count": 127,
   "metadata": {},
   "outputs": [
    {
     "name": "stdout",
     "output_type": "stream",
     "text": [
      "<class 'tuple'>\n"
     ]
    },
    {
     "data": {
      "text/plain": [
       "numpy.ndarray"
      ]
     },
     "execution_count": 127,
     "metadata": {},
     "output_type": "execute_result"
    }
   ],
   "source": [
    "a  = (1,2,3)\n",
    "print(type(a))\n",
    "\n",
    "a = np.array(a)\n",
    "type(a)"
   ]
  },
  {
   "cell_type": "code",
   "execution_count": 128,
   "metadata": {},
   "outputs": [
    {
     "name": "stdout",
     "output_type": "stream",
     "text": [
      "<class 'set'>\n"
     ]
    },
    {
     "data": {
      "text/plain": [
       "numpy.ndarray"
      ]
     },
     "execution_count": 128,
     "metadata": {},
     "output_type": "execute_result"
    }
   ],
   "source": [
    "a  = {1,2,3}\n",
    "print(type(a))\n",
    "\n",
    "a = np.array(a)\n",
    "type(a)"
   ]
  },
  {
   "cell_type": "markdown",
   "metadata": {},
   "source": [
    "# np.Array"
   ]
  },
  {
   "cell_type": "code",
   "execution_count": 131,
   "metadata": {},
   "outputs": [
    {
     "data": {
      "text/plain": [
       "False"
      ]
     },
     "execution_count": 131,
     "metadata": {},
     "output_type": "execute_result"
    }
   ],
   "source": [
    "l = [1,2,3]\n",
    "a = np.array(l)\n",
    "b = np.array(a)\n",
    "a is b"
   ]
  },
  {
   "cell_type": "code",
   "execution_count": 132,
   "metadata": {},
   "outputs": [
    {
     "data": {
      "text/plain": [
       "[1, 2, 3]"
      ]
     },
     "execution_count": 132,
     "metadata": {},
     "output_type": "execute_result"
    }
   ],
   "source": [
    "l"
   ]
  },
  {
   "cell_type": "code",
   "execution_count": 133,
   "metadata": {},
   "outputs": [
    {
     "data": {
      "text/plain": [
       "array([1, 2, 3])"
      ]
     },
     "execution_count": 133,
     "metadata": {},
     "output_type": "execute_result"
    }
   ],
   "source": [
    "a"
   ]
  },
  {
   "cell_type": "code",
   "execution_count": 134,
   "metadata": {},
   "outputs": [
    {
     "data": {
      "text/plain": [
       "array([1, 2, 3])"
      ]
     },
     "execution_count": 134,
     "metadata": {},
     "output_type": "execute_result"
    }
   ],
   "source": [
    "b"
   ]
  },
  {
   "cell_type": "code",
   "execution_count": 136,
   "metadata": {},
   "outputs": [
    {
     "data": {
      "text/plain": [
       "array([ True,  True,  True])"
      ]
     },
     "execution_count": 136,
     "metadata": {},
     "output_type": "execute_result"
    }
   ],
   "source": [
    "a==b"
   ]
  },
  {
   "cell_type": "code",
   "execution_count": null,
   "metadata": {},
   "outputs": [],
   "source": []
  },
  {
   "cell_type": "markdown",
   "metadata": {},
   "source": [
    "### np.asarray"
   ]
  },
  {
   "cell_type": "code",
   "execution_count": 130,
   "metadata": {},
   "outputs": [
    {
     "data": {
      "text/plain": [
       "True"
      ]
     },
     "execution_count": 130,
     "metadata": {},
     "output_type": "execute_result"
    }
   ],
   "source": [
    "l = [1,2,3]\n",
    "a = np.asarray(l)\n",
    "b = np.asarray(a)\n",
    "a is b"
   ]
  },
  {
   "cell_type": "code",
   "execution_count": null,
   "metadata": {},
   "outputs": [],
   "source": []
  }
 ],
 "metadata": {
  "kernelspec": {
   "display_name": "Python 3",
   "language": "python",
   "name": "python3"
  },
  "language_info": {
   "codemirror_mode": {
    "name": "ipython",
    "version": 3
   },
   "file_extension": ".py",
   "mimetype": "text/x-python",
   "name": "python",
   "nbconvert_exporter": "python",
   "pygments_lexer": "ipython3",
   "version": "3.7.6"
  }
 },
 "nbformat": 4,
 "nbformat_minor": 4
}
